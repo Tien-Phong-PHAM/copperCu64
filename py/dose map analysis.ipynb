{
 "cells": [
  {
   "cell_type": "markdown",
   "metadata": {},
   "source": [
    "# 3D dose map analysis\n",
    "\n",
    "Use the output of the following simulation:\n",
    "- Folder: exercices/\n",
    "- Macros: ex2.mac, ex3.mac\n",
    "\n",
    "Helping ressources: http://insightsoftwareconsortium.github.io/SimpleITK-Notebooks"
   ]
  },
  {
   "cell_type": "code",
   "execution_count": 29,
   "metadata": {},
   "outputs": [],
   "source": [
    "%matplotlib inline\n",
    "import matplotlib.pyplot as plt\n",
    "import numpy as np\n",
    "import SimpleITK as sitk\n",
    "from ipywidgets import interact\n",
    "import os\n",
    "from pathlib import Path"
   ]
  },
  {
   "cell_type": "code",
   "execution_count": 30,
   "metadata": {},
   "outputs": [
    {
     "name": "stdout",
     "output_type": "stream",
     "text": [
      "The Current Working Directory (CWD) is: \n",
      " /Users/dsarrut/src/gate/tests/dqprm/2019/gate-exercices/exercices/py\n"
     ]
    }
   ],
   "source": [
    "# The following command display the current working directory (where jupyter has been launched)\n",
    "cwd = os.getcwd()\n",
    "print('The Current Working Directory (CWD) is: \\n', cwd)\n",
    "folder = Path()\n",
    "if (not folder.is_dir()):\n",
    "    print('ERROR: {} is not a folder.'.format(folder))"
   ]
  },
  {
   "cell_type": "code",
   "execution_count": 31,
   "metadata": {},
   "outputs": [
    {
     "name": "stdout",
     "output_type": "stream",
     "text": [
      "Image size:  (126, 126, 111)\n",
      "Image spacing:  (2.0, 2.0, 2.0)\n",
      "Image origin:  (0.0, 0.0, 0.0)\n"
     ]
    }
   ],
   "source": [
    "# Read a sitk image\n",
    "filename = os.path.join(folder,'../data/patient-2mm.mhd')\n",
    "img_ct = sitk.ReadImage(filename)\n",
    "print('Image size: ', img_ct.GetSize())\n",
    "print('Image spacing: ', img_ct.GetSpacing())\n",
    "print('Image origin: ', img_ct.GetOrigin())"
   ]
  },
  {
   "cell_type": "code",
   "execution_count": 32,
   "metadata": {},
   "outputs": [
    {
     "name": "stdout",
     "output_type": "stream",
     "text": [
      "Array size:  (111, 126, 126)  <--- be careful to the dimension order!)\n"
     ]
    }
   ],
   "source": [
    "# Convert sitk image to a numpy array\n",
    "arr_ct = sitk.GetArrayFromImage(img_ct)\n",
    "print('Array size: ', arr_ct.shape, ' <--- be careful to the dimension order!)')"
   ]
  },
  {
   "cell_type": "code",
   "execution_count": 33,
   "metadata": {},
   "outputs": [
    {
     "data": {
      "application/vnd.jupyter.widget-view+json": {
       "model_id": "c1bdfcdde0ed4f21900e2f84562d51f4",
       "version_major": 2,
       "version_minor": 0
      },
      "text/plain": [
       "interactive(children=(IntSlider(value=63, description='sx', max=126), IntSlider(value=63, description='sy', ma…"
      ]
     },
     "metadata": {},
     "output_type": "display_data"
    }
   ],
   "source": [
    "def show_ct(sx,sy,sz):\n",
    "    fig, ax = plt.subplots(1,3, figsize=(10, 5))\n",
    "    ax[0].imshow(arr_ct[sz,:,:], cmap=plt.cm.gray)\n",
    "    ax[1].imshow(arr_ct[:,sx,:], cmap=plt.cm.gray)\n",
    "    ax[2].imshow(arr_ct[:,:,sy], cmap=plt.cm.gray)\n",
    "    \n",
    "interact(show_ct, sx=(0,img_ct.GetSize()[0]), sy=(0,img_ct.GetSize()[1]), sz=(0,img_ct.GetSize()[2]));"
   ]
  },
  {
   "cell_type": "code",
   "execution_count": 34,
   "metadata": {},
   "outputs": [
    {
     "name": "stdout",
     "output_type": "stream",
     "text": [
      "Image size =  (50, 50, 50)\n",
      "Image min and max:  0.0 2.760377e-05\n"
     ]
    }
   ],
   "source": [
    "filename = os.path.join(folder, '../output/3d-pat-proton-Dose.mhd')\n",
    "img_dose = sitk.ReadImage(filename)\n",
    "arr_dose = sitk.GetArrayFromImage(img_dose)\n",
    "print('Image size = ', arr_dose.shape)\n",
    "print('Image min and max: ',  np.amin(arr_dose), np.amax(arr_dose))"
   ]
  },
  {
   "cell_type": "code",
   "execution_count": 35,
   "metadata": {},
   "outputs": [],
   "source": [
    "filter = sitk.RescaleIntensityImageFilter()\n",
    "filter.SetOutputMaximum(1.0)\n",
    "filter.SetOutputMinimum(0.0)\n",
    "img_dose = filter.Execute(img_dose)"
   ]
  },
  {
   "cell_type": "code",
   "execution_count": 36,
   "metadata": {},
   "outputs": [
    {
     "name": "stdout",
     "output_type": "stream",
     "text": [
      "Image size =  (50, 50, 50)\n",
      "Image min and max:  0.0 1.0\n"
     ]
    }
   ],
   "source": [
    "arr_dose = sitk.GetArrayFromImage(img_dose)\n",
    "print('Image size = ', arr_dose.shape)\n",
    "print('Image min and max: ',  np.amin(arr_dose), np.amax(arr_dose))"
   ]
  },
  {
   "cell_type": "code",
   "execution_count": 37,
   "metadata": {},
   "outputs": [
    {
     "data": {
      "application/vnd.jupyter.widget-view+json": {
       "model_id": "29bbe6e469574104b79c42bc22e8ef10",
       "version_major": 2,
       "version_minor": 0
      },
      "text/plain": [
       "interactive(children=(IntSlider(value=24, description='nslice', max=49), Output()), _dom_classes=('widget-inte…"
      ]
     },
     "metadata": {},
     "output_type": "display_data"
    }
   ],
   "source": [
    "def show_dose(nslice):\n",
    "    plt.imshow(arr_dose[:,nslice,:], cmap=plt.cm.gray)\n",
    "    plt.colorbar()\n",
    "    \n",
    "interact(show_dose, nslice=(0,len(arr_dose)-1));"
   ]
  },
  {
   "cell_type": "code",
   "execution_count": 38,
   "metadata": {},
   "outputs": [],
   "source": [
    "img_resampled_dose = sitk.Resample(img_dose, img_ct, sitk.Transform(), sitk.sitkLinear, 0)"
   ]
  },
  {
   "cell_type": "code",
   "execution_count": 39,
   "metadata": {},
   "outputs": [
    {
     "name": "stdout",
     "output_type": "stream",
     "text": [
      "Image size =  (111, 126, 126)\n",
      "Image min and max:  0.0 0.8993586\n"
     ]
    }
   ],
   "source": [
    "arr_resampled_dose = sitk.GetArrayFromImage(img_resampled_dose)\n",
    "print('Image size = ', arr_resampled_dose.shape)\n",
    "print('Image min and max: ',  np.amin(arr_resampled_dose), np.amax(arr_resampled_dose))"
   ]
  },
  {
   "cell_type": "code",
   "execution_count": 40,
   "metadata": {},
   "outputs": [
    {
     "data": {
      "application/vnd.jupyter.widget-view+json": {
       "model_id": "966a98a406ea4f2c8d8e91caf4aeb50a",
       "version_major": 2,
       "version_minor": 0
      },
      "text/plain": [
       "interactive(children=(IntSlider(value=58, description='nslice', max=111), FloatSlider(value=0.7, description='…"
      ]
     },
     "metadata": {},
     "output_type": "display_data"
    }
   ],
   "source": [
    "def show_fusion(nslice=58, opacity=0.7):\n",
    "    plt.imshow(arr_ct[:,:,nslice], cmap=plt.cm.gray)\n",
    "    a = arr_resampled_dose[:,:,nslice]\n",
    "    b = np.ma.masked_where(a <= 0.001, a)\n",
    "    plt.imshow(b, alpha=opacity, cmap=plt.cm.hot)\n",
    "    plt.colorbar()\n",
    "    \n",
    "interact(show_fusion, nslice=(0,len(arr_ct)), opacity=(0,1,0.1));"
   ]
  },
  {
   "cell_type": "markdown",
   "metadata": {},
   "source": [
    "# Part 2: 1D plot from 3D proton dose"
   ]
  },
  {
   "cell_type": "code",
   "execution_count": 41,
   "metadata": {},
   "outputs": [],
   "source": [
    "filename_edep = os.path.join(str(folder), '../output/3d-pat-proton-Edep.mhd')\n",
    "img_edep = sitk.ReadImage(filename_edep)\n",
    "arr_edep = sitk.GetArrayFromImage(img_edep)"
   ]
  },
  {
   "cell_type": "code",
   "execution_count": 42,
   "metadata": {},
   "outputs": [
    {
     "data": {
      "image/png": "[encoded data removed]",
      "text/plain": [
       "<Figure size 864x432 with 2 Axes>"
      ]
     },
     "metadata": {},
     "output_type": "display_data"
    }
   ],
   "source": [
    "# Declare a single figure (one row, one column)\n",
    "fig, ax = plt.subplots(ncols=1, nrows=1, figsize=(12, 6))\n",
    "moy_dose=np.zeros(arr_dose.shape[0])\n",
    "moy_edep=np.zeros(arr_edep.shape[0])\n",
    "for i in range(arr_dose.shape[0]):\n",
    "    subarr_dose=arr_dose[i,:,:]\n",
    "    moy_dose[i]=np.mean(subarr_dose)\n",
    "    subarr_edep=arr_edep[i,:,:]\n",
    "    moy_edep[i]=np.mean(subarr_edep)\n",
    "\n",
    "# X values from 0 to n\n",
    "# n is the number of slices\n",
    "n = arr_dose.shape[0]\n",
    "x = np.linspace(0, n, n)\n",
    "\n",
    "c1 = ax.plot(x, moy_dose, 'k.-', label='deposited dose', linewidth=1)\n",
    "ax2 = ax.twinx()\n",
    "c2 = ax2.plot(x, moy_edep, 'b.-', label='deposited energy', linewidth=1)"
   ]
  },
  {
   "cell_type": "markdown",
   "metadata": {},
   "source": [
    "# Other examples of exercices\n",
    "\n",
    "- Plot a depth dose profile with interactive line coordinate\n",
    "- Display uncertainty map\n",
    "- Create another simulation with a different beam angle\n",
    "- Sum and display two different dose maps (two different irradiation fields for example)"
   ]
  },
  {
   "cell_type": "code",
   "execution_count": null,
   "metadata": {},
   "outputs": [],
   "source": []
  }
 ],
 "metadata": {
  "kernelspec": {
   "display_name": "Python 3",
   "language": "python",
   "name": "python3"
  },
  "language_info": {
   "codemirror_mode": {
    "name": "ipython",
    "version": 3
   },
   "file_extension": ".py",
   "mimetype": "text/x-python",
   "name": "python",
   "nbconvert_exporter": "python",
   "pygments_lexer": "ipython3",
   "version": "3.6.3"
  }
 },
 "nbformat": 4,
 "nbformat_minor": 2
}
